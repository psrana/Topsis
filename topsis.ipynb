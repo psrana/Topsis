{
  "metadata": {
    "kernelspec": {
      "name": "ir",
      "display_name": "R",
      "language": "R"
    },
    "language_info": {
      "name": "R",
      "codemirror_mode": "r",
      "pygments_lexer": "r",
      "mimetype": "text/x-r-source",
      "file_extension": ".r",
      "version": "4.0.5"
    },
    "colab": {
      "name": "topsis.ipynb",
      "provenance": [],
      "collapsed_sections": [],
      "include_colab_link": true
    },
    "gpuClass": "standard"
  },
  "nbformat_minor": 0,
  "nbformat": 4,
  "cells": [
    {
      "cell_type": "markdown",
      "metadata": {
        "id": "view-in-github",
        "colab_type": "text"
      },
      "source": [
        "<a href=\"https://colab.research.google.com/github/psrana/Topsis/blob/main/topsis.ipynb\" target=\"_parent\"><img src=\"https://colab.research.google.com/assets/colab-badge.svg\" alt=\"Open In Colab\"/></a>"
      ]
    },
    {
      "cell_type": "markdown",
      "source": [
        "---\n",
        "# **Multi-criteria decision making (MCDM) using Topsis**\n",
        "---\n",
        "- MCDM refers to select the best choice, having multiple-conflicting-criteria.\n",
        "- Topsis helps to generate single score to make the decision\n",
        "\n",
        "### **Self learning resource**\n",
        "- Tutorial on Topsis **<a href=\"https://en.wikipedia.org/wiki/TOPSIS\" target=\"_blank\"> Click Here</a>** \n",
        "\n",
        "\n"
      ],
      "metadata": {
        "id": "xsVvMZdV2NCK"
      }
    },
    {
      "cell_type": "markdown",
      "source": [
        "---\n",
        "## **1.1 Installing topsis library**\n",
        "---"
      ],
      "metadata": {
        "id": "aA5v8sqBvBmy"
      }
    },
    {
      "cell_type": "code",
      "source": [
        "install.packages('topsis')"
      ],
      "metadata": {
        "_uuid": "5a066e3c-bbcd-44d1-b5ca-1ebe7bc54be1",
        "_cell_guid": "b1a50ab9-6daf-46cb-8adb-5ec1a94107ac",
        "jupyter": {
          "outputs_hidden": false
        },
        "execution": {
          "iopub.status.busy": "2022-07-03T15:25:12.484227Z",
          "iopub.execute_input": "2022-07-03T15:25:12.485765Z",
          "iopub.status.idle": "2022-07-03T15:25:28.122444Z"
        },
        "trusted": true,
        "colab": {
          "base_uri": "https://localhost:8080/"
        },
        "id": "cd__y922vBm2",
        "outputId": "7529eb23-30f3-4956-bc45-f54c970645d2"
      },
      "execution_count": 1,
      "outputs": [
        {
          "output_type": "stream",
          "name": "stderr",
          "text": [
            "Installing package into ‘/usr/local/lib/R/site-library’\n",
            "(as ‘lib’ is unspecified)\n",
            "\n"
          ]
        }
      ]
    },
    {
      "cell_type": "markdown",
      "source": [
        "---\n",
        "## **1.2 Import the library**\n",
        "---"
      ],
      "metadata": {
        "id": "PFZGmdcVvBm7"
      }
    },
    {
      "cell_type": "code",
      "source": [
        "library(topsis)"
      ],
      "metadata": {
        "_uuid": "d202d55d-794d-4414-b7a6-ec8ae7d6c92d",
        "_cell_guid": "f1f2ef93-39e3-4c32-bb5e-1d7e671a2644",
        "jupyter": {
          "outputs_hidden": false
        },
        "execution": {
          "iopub.status.busy": "2022-07-03T15:25:28.124907Z",
          "iopub.execute_input": "2022-07-03T15:25:28.126357Z",
          "iopub.status.idle": "2022-07-03T15:25:28.146639Z"
        },
        "trusted": true,
        "id": "e61rTaX2vBm8"
      },
      "execution_count": 2,
      "outputs": []
    },
    {
      "cell_type": "markdown",
      "source": [
        "---\n",
        "## **1.3 Download the Topsis-Dataset and upload to content drive**\n",
        "\n",
        "- **<a href=\"https://drive.google.com/drive/folders/1gkfVzqFfurRycF4Qh9OaLzrIPicKSxj8?usp=sharing\" target=\"_blank\"> Click Here</a>** for Dataset\n",
        "\n",
        "---"
      ],
      "metadata": {
        "id": "JwohCs39vBm_"
      }
    },
    {
      "cell_type": "markdown",
      "source": [
        "\n",
        "## **1.4 Read the dataset**\n",
        "---"
      ],
      "metadata": {
        "id": "OW4cP0u4yCFF"
      }
    },
    {
      "cell_type": "code",
      "source": [
        "mydata=read.csv('/content/sample_data/Topsis-Dataset.csv')\n",
        "mydata"
      ],
      "metadata": {
        "_uuid": "affe3387-ab90-45ea-845c-dfa84c74994a",
        "_cell_guid": "7e2d1105-9816-472c-8ba1-a340f4a5c326",
        "jupyter": {
          "outputs_hidden": false
        },
        "execution": {
          "iopub.status.busy": "2022-07-03T15:25:28.149057Z",
          "iopub.execute_input": "2022-07-03T15:25:28.150464Z",
          "iopub.status.idle": "2022-07-03T15:25:28.178352Z"
        },
        "trusted": true,
        "colab": {
          "base_uri": "https://localhost:8080/",
          "height": 255
        },
        "id": "DUEzfl2WvBnA",
        "outputId": "eff2f7cd-0c7d-45e7-ba4e-0b264db25540"
      },
      "execution_count": 3,
      "outputs": [
        {
          "output_type": "display_data",
          "data": {
            "text/html": [
              "<table class=\"dataframe\">\n",
              "<caption>A data.frame: 5 × 5</caption>\n",
              "<thead>\n",
              "\t<tr><th scope=col>Model</th><th scope=col>Corr</th><th scope=col>Rseq</th><th scope=col>RMSE</th><th scope=col>Accuracy</th></tr>\n",
              "\t<tr><th scope=col>&lt;chr&gt;</th><th scope=col>&lt;dbl&gt;</th><th scope=col>&lt;dbl&gt;</th><th scope=col>&lt;dbl&gt;</th><th scope=col>&lt;dbl&gt;</th></tr>\n",
              "</thead>\n",
              "<tbody>\n",
              "\t<tr><td>M1</td><td>0.79</td><td>0.62</td><td>1.25</td><td>60.89</td></tr>\n",
              "\t<tr><td>M2</td><td>0.66</td><td>0.44</td><td>2.89</td><td>63.07</td></tr>\n",
              "\t<tr><td>M3</td><td>0.56</td><td>0.31</td><td>1.57</td><td>62.87</td></tr>\n",
              "\t<tr><td>M4</td><td>0.82</td><td>0.67</td><td>2.68</td><td>70.19</td></tr>\n",
              "\t<tr><td>M5</td><td>0.75</td><td>0.56</td><td>1.30</td><td>80.39</td></tr>\n",
              "</tbody>\n",
              "</table>\n"
            ],
            "text/markdown": "\nA data.frame: 5 × 5\n\n| Model &lt;chr&gt; | Corr &lt;dbl&gt; | Rseq &lt;dbl&gt; | RMSE &lt;dbl&gt; | Accuracy &lt;dbl&gt; |\n|---|---|---|---|---|\n| M1 | 0.79 | 0.62 | 1.25 | 60.89 |\n| M2 | 0.66 | 0.44 | 2.89 | 63.07 |\n| M3 | 0.56 | 0.31 | 1.57 | 62.87 |\n| M4 | 0.82 | 0.67 | 2.68 | 70.19 |\n| M5 | 0.75 | 0.56 | 1.30 | 80.39 |\n\n",
            "text/latex": "A data.frame: 5 × 5\n\\begin{tabular}{lllll}\n Model & Corr & Rseq & RMSE & Accuracy\\\\\n <chr> & <dbl> & <dbl> & <dbl> & <dbl>\\\\\n\\hline\n\t M1 & 0.79 & 0.62 & 1.25 & 60.89\\\\\n\t M2 & 0.66 & 0.44 & 2.89 & 63.07\\\\\n\t M3 & 0.56 & 0.31 & 1.57 & 62.87\\\\\n\t M4 & 0.82 & 0.67 & 2.68 & 70.19\\\\\n\t M5 & 0.75 & 0.56 & 1.30 & 80.39\\\\\n\\end{tabular}\n",
            "text/plain": [
              "  Model Corr Rseq RMSE Accuracy\n",
              "1 M1    0.79 0.62 1.25 60.89   \n",
              "2 M2    0.66 0.44 2.89 63.07   \n",
              "3 M3    0.56 0.31 1.57 62.87   \n",
              "4 M4    0.82 0.67 2.68 70.19   \n",
              "5 M5    0.75 0.56 1.30 80.39   "
            ]
          },
          "metadata": {}
        }
      ]
    },
    {
      "cell_type": "markdown",
      "source": [
        "---\n",
        "## **1.5 Convert the dataset to Matrix**\n",
        "---"
      ],
      "metadata": {
        "id": "5zyzrToXvBnB"
      }
    },
    {
      "cell_type": "code",
      "source": [
        "d <- as.matrix(mydata[,-1]) # -1, drop 1st column\n",
        "d"
      ],
      "metadata": {
        "_uuid": "6efe8de2-e55c-4db6-ba2b-0c4e1b9d0dad",
        "_cell_guid": "30d53597-98b7-4aeb-9d88-375f55b9f343",
        "jupyter": {
          "outputs_hidden": false
        },
        "execution": {
          "iopub.status.busy": "2022-07-03T15:25:28.180769Z",
          "iopub.execute_input": "2022-07-03T15:25:28.182207Z",
          "iopub.status.idle": "2022-07-03T15:25:28.203551Z"
        },
        "trusted": true,
        "colab": {
          "base_uri": "https://localhost:8080/",
          "height": 223
        },
        "id": "BqmdotlVvBnB",
        "outputId": "e1c2b535-4ee5-4910-9e59-1e598eb9fde4"
      },
      "execution_count": 4,
      "outputs": [
        {
          "output_type": "display_data",
          "data": {
            "text/html": [
              "<table class=\"dataframe\">\n",
              "<caption>A matrix: 5 × 4 of type dbl</caption>\n",
              "<thead>\n",
              "\t<tr><th scope=col>Corr</th><th scope=col>Rseq</th><th scope=col>RMSE</th><th scope=col>Accuracy</th></tr>\n",
              "</thead>\n",
              "<tbody>\n",
              "\t<tr><td>0.79</td><td>0.62</td><td>1.25</td><td>60.89</td></tr>\n",
              "\t<tr><td>0.66</td><td>0.44</td><td>2.89</td><td>63.07</td></tr>\n",
              "\t<tr><td>0.56</td><td>0.31</td><td>1.57</td><td>62.87</td></tr>\n",
              "\t<tr><td>0.82</td><td>0.67</td><td>2.68</td><td>70.19</td></tr>\n",
              "\t<tr><td>0.75</td><td>0.56</td><td>1.30</td><td>80.39</td></tr>\n",
              "</tbody>\n",
              "</table>\n"
            ],
            "text/markdown": "\nA matrix: 5 × 4 of type dbl\n\n| Corr | Rseq | RMSE | Accuracy |\n|---|---|---|---|\n| 0.79 | 0.62 | 1.25 | 60.89 |\n| 0.66 | 0.44 | 2.89 | 63.07 |\n| 0.56 | 0.31 | 1.57 | 62.87 |\n| 0.82 | 0.67 | 2.68 | 70.19 |\n| 0.75 | 0.56 | 1.30 | 80.39 |\n\n",
            "text/latex": "A matrix: 5 × 4 of type dbl\n\\begin{tabular}{llll}\n Corr & Rseq & RMSE & Accuracy\\\\\n\\hline\n\t 0.79 & 0.62 & 1.25 & 60.89\\\\\n\t 0.66 & 0.44 & 2.89 & 63.07\\\\\n\t 0.56 & 0.31 & 1.57 & 62.87\\\\\n\t 0.82 & 0.67 & 2.68 & 70.19\\\\\n\t 0.75 & 0.56 & 1.30 & 80.39\\\\\n\\end{tabular}\n",
            "text/plain": [
              "     Corr Rseq RMSE Accuracy\n",
              "[1,] 0.79 0.62 1.25 60.89   \n",
              "[2,] 0.66 0.44 2.89 63.07   \n",
              "[3,] 0.56 0.31 1.57 62.87   \n",
              "[4,] 0.82 0.67 2.68 70.19   \n",
              "[5,] 0.75 0.56 1.30 80.39   "
            ]
          },
          "metadata": {}
        }
      ]
    },
    {
      "cell_type": "markdown",
      "source": [
        "---\n",
        "## **1.6 Assigning the impacts**\n",
        "---"
      ],
      "metadata": {
        "id": "FQiGjcqdvBnC"
      }
    },
    {
      "cell_type": "code",
      "source": [
        "i <- c(\"+\", \"+\", \"-\", \"+\")\n",
        "i"
      ],
      "metadata": {
        "_uuid": "5decaca5-4ec3-4bcd-8d22-a3c19a348c8a",
        "_cell_guid": "85e24367-9083-445b-a3a0-12d74a158155",
        "jupyter": {
          "outputs_hidden": false
        },
        "execution": {
          "iopub.status.busy": "2022-07-03T15:25:28.205883Z",
          "iopub.execute_input": "2022-07-03T15:25:28.207300Z",
          "iopub.status.idle": "2022-07-03T15:25:28.239570Z"
        },
        "trusted": true,
        "colab": {
          "base_uri": "https://localhost:8080/",
          "height": 34
        },
        "id": "QXxGJZZxvBnD",
        "outputId": "5f85a5f7-2c6d-42a5-a661-9e271fdaa0e7"
      },
      "execution_count": 5,
      "outputs": [
        {
          "output_type": "display_data",
          "data": {
            "text/html": [
              "<style>\n",
              ".list-inline {list-style: none; margin:0; padding: 0}\n",
              ".list-inline>li {display: inline-block}\n",
              ".list-inline>li:not(:last-child)::after {content: \"\\00b7\"; padding: 0 .5ex}\n",
              "</style>\n",
              "<ol class=list-inline><li>'+'</li><li>'+'</li><li>'-'</li><li>'+'</li></ol>\n"
            ],
            "text/markdown": "1. '+'\n2. '+'\n3. '-'\n4. '+'\n\n\n",
            "text/latex": "\\begin{enumerate*}\n\\item '+'\n\\item '+'\n\\item '-'\n\\item '+'\n\\end{enumerate*}\n",
            "text/plain": [
              "[1] \"+\" \"+\" \"-\" \"+\""
            ]
          },
          "metadata": {}
        }
      ]
    },
    {
      "cell_type": "markdown",
      "source": [
        "---\n",
        "## **1.7 Assigning the weights**\n",
        "---"
      ],
      "metadata": {
        "id": "uE7G7ylWvBnE"
      }
    },
    {
      "cell_type": "code",
      "source": [
        "w <- c(1,1,1,1)\n",
        "w"
      ],
      "metadata": {
        "_uuid": "ed08c8d4-0991-4eb3-a265-c18193630956",
        "_cell_guid": "824777a1-8d67-4974-aa75-dce27dc537f9",
        "jupyter": {
          "outputs_hidden": false
        },
        "execution": {
          "iopub.status.busy": "2022-07-03T15:25:28.241799Z",
          "iopub.execute_input": "2022-07-03T15:25:28.243117Z",
          "iopub.status.idle": "2022-07-03T15:25:28.264988Z"
        },
        "trusted": true,
        "colab": {
          "base_uri": "https://localhost:8080/",
          "height": 34
        },
        "id": "A9BX7PiWvBnF",
        "outputId": "35ac73c4-8db9-4aff-c669-de10b13cec39"
      },
      "execution_count": 6,
      "outputs": [
        {
          "output_type": "display_data",
          "data": {
            "text/html": [
              "<style>\n",
              ".list-inline {list-style: none; margin:0; padding: 0}\n",
              ".list-inline>li {display: inline-block}\n",
              ".list-inline>li:not(:last-child)::after {content: \"\\00b7\"; padding: 0 .5ex}\n",
              "</style>\n",
              "<ol class=list-inline><li>1</li><li>1</li><li>1</li><li>1</li></ol>\n"
            ],
            "text/markdown": "1. 1\n2. 1\n3. 1\n4. 1\n\n\n",
            "text/latex": "\\begin{enumerate*}\n\\item 1\n\\item 1\n\\item 1\n\\item 1\n\\end{enumerate*}\n",
            "text/plain": [
              "[1] 1 1 1 1"
            ]
          },
          "metadata": {}
        }
      ]
    },
    {
      "cell_type": "markdown",
      "source": [
        "---\n",
        "## **1.8 Calling the topisis function**\n",
        "---"
      ],
      "metadata": {
        "id": "eu3Np3XmvBnG"
      }
    },
    {
      "cell_type": "code",
      "source": [
        "topsis(d, w, i)"
      ],
      "metadata": {
        "_uuid": "b1b42519-6c1f-41f1-9209-ec2fff912ec6",
        "_cell_guid": "e653392a-adc7-41b5-a5b3-cfd62b40d3b7",
        "jupyter": {
          "outputs_hidden": false
        },
        "execution": {
          "iopub.status.busy": "2022-07-03T15:25:28.268022Z",
          "iopub.execute_input": "2022-07-03T15:25:28.270850Z",
          "iopub.status.idle": "2022-07-03T15:25:28.304475Z"
        },
        "trusted": true,
        "colab": {
          "base_uri": "https://localhost:8080/",
          "height": 255
        },
        "id": "x7ry5J4uvBnG",
        "outputId": "5828f835-47fc-4baa-ac64-166a2ef9f197"
      },
      "execution_count": 7,
      "outputs": [
        {
          "output_type": "display_data",
          "data": {
            "text/html": [
              "<table class=\"dataframe\">\n",
              "<caption>A data.frame: 5 × 3</caption>\n",
              "<thead>\n",
              "\t<tr><th scope=col>alt.row</th><th scope=col>score</th><th scope=col>rank</th></tr>\n",
              "\t<tr><th scope=col>&lt;int&gt;</th><th scope=col>&lt;dbl&gt;</th><th scope=col>&lt;dbl&gt;</th></tr>\n",
              "</thead>\n",
              "<tbody>\n",
              "\t<tr><td>1</td><td>0.7722097</td><td>2</td></tr>\n",
              "\t<tr><td>2</td><td>0.2255988</td><td>5</td></tr>\n",
              "\t<tr><td>3</td><td>0.4388973</td><td>4</td></tr>\n",
              "\t<tr><td>4</td><td>0.5238779</td><td>3</td></tr>\n",
              "\t<tr><td>5</td><td>0.8113887</td><td>1</td></tr>\n",
              "</tbody>\n",
              "</table>\n"
            ],
            "text/markdown": "\nA data.frame: 5 × 3\n\n| alt.row &lt;int&gt; | score &lt;dbl&gt; | rank &lt;dbl&gt; |\n|---|---|---|\n| 1 | 0.7722097 | 2 |\n| 2 | 0.2255988 | 5 |\n| 3 | 0.4388973 | 4 |\n| 4 | 0.5238779 | 3 |\n| 5 | 0.8113887 | 1 |\n\n",
            "text/latex": "A data.frame: 5 × 3\n\\begin{tabular}{lll}\n alt.row & score & rank\\\\\n <int> & <dbl> & <dbl>\\\\\n\\hline\n\t 1 & 0.7722097 & 2\\\\\n\t 2 & 0.2255988 & 5\\\\\n\t 3 & 0.4388973 & 4\\\\\n\t 4 & 0.5238779 & 3\\\\\n\t 5 & 0.8113887 & 1\\\\\n\\end{tabular}\n",
            "text/plain": [
              "  alt.row score     rank\n",
              "1 1       0.7722097 2   \n",
              "2 2       0.2255988 5   \n",
              "3 3       0.4388973 4   \n",
              "4 4       0.5238779 3   \n",
              "5 5       0.8113887 1   "
            ]
          },
          "metadata": {}
        }
      ]
    },
    {
      "cell_type": "markdown",
      "source": [
        "---\n",
        "## **2 Complete Code**\n",
        "---"
      ],
      "metadata": {
        "id": "N6OvLgPd5CM3"
      }
    },
    {
      "cell_type": "code",
      "source": [
        "library(topsis)\n",
        "mydata=read.csv('/content/sample_data/Topsis-Dataset.csv')\n",
        "d <- as.matrix(mydata[,-1]) # -1, drop 1st column\n",
        "i <- c(\"+\", \"+\", \"-\", \"+\")\n",
        "w <- c(1,1,1,1)\n",
        "topsis(d, w, i)"
      ],
      "metadata": {
        "_uuid": "b1b42519-6c1f-41f1-9209-ec2fff912ec6",
        "_cell_guid": "e653392a-adc7-41b5-a5b3-cfd62b40d3b7",
        "jupyter": {
          "outputs_hidden": false
        },
        "execution": {
          "iopub.status.busy": "2022-07-03T15:25:28.268022Z",
          "iopub.execute_input": "2022-07-03T15:25:28.270850Z",
          "iopub.status.idle": "2022-07-03T15:25:28.304475Z"
        },
        "trusted": true,
        "colab": {
          "base_uri": "https://localhost:8080/",
          "height": 255
        },
        "outputId": "556dc77a-cb00-4802-fca4-f07cf5add033",
        "id": "tJa2HiId5CM4"
      },
      "execution_count": 8,
      "outputs": [
        {
          "output_type": "display_data",
          "data": {
            "text/html": [
              "<table class=\"dataframe\">\n",
              "<caption>A data.frame: 5 × 3</caption>\n",
              "<thead>\n",
              "\t<tr><th scope=col>alt.row</th><th scope=col>score</th><th scope=col>rank</th></tr>\n",
              "\t<tr><th scope=col>&lt;int&gt;</th><th scope=col>&lt;dbl&gt;</th><th scope=col>&lt;dbl&gt;</th></tr>\n",
              "</thead>\n",
              "<tbody>\n",
              "\t<tr><td>1</td><td>0.7722097</td><td>2</td></tr>\n",
              "\t<tr><td>2</td><td>0.2255988</td><td>5</td></tr>\n",
              "\t<tr><td>3</td><td>0.4388973</td><td>4</td></tr>\n",
              "\t<tr><td>4</td><td>0.5238779</td><td>3</td></tr>\n",
              "\t<tr><td>5</td><td>0.8113887</td><td>1</td></tr>\n",
              "</tbody>\n",
              "</table>\n"
            ],
            "text/markdown": "\nA data.frame: 5 × 3\n\n| alt.row &lt;int&gt; | score &lt;dbl&gt; | rank &lt;dbl&gt; |\n|---|---|---|\n| 1 | 0.7722097 | 2 |\n| 2 | 0.2255988 | 5 |\n| 3 | 0.4388973 | 4 |\n| 4 | 0.5238779 | 3 |\n| 5 | 0.8113887 | 1 |\n\n",
            "text/latex": "A data.frame: 5 × 3\n\\begin{tabular}{lll}\n alt.row & score & rank\\\\\n <int> & <dbl> & <dbl>\\\\\n\\hline\n\t 1 & 0.7722097 & 2\\\\\n\t 2 & 0.2255988 & 5\\\\\n\t 3 & 0.4388973 & 4\\\\\n\t 4 & 0.5238779 & 3\\\\\n\t 5 & 0.8113887 & 1\\\\\n\\end{tabular}\n",
            "text/plain": [
              "  alt.row score     rank\n",
              "1 1       0.7722097 2   \n",
              "2 2       0.2255988 5   \n",
              "3 3       0.4388973 4   \n",
              "4 4       0.5238779 3   \n",
              "5 5       0.8113887 1   "
            ]
          },
          "metadata": {}
        }
      ]
    }
  ]
}